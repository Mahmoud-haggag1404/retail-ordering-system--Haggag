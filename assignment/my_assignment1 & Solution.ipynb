{
 "cells": [
  {
   "cell_type": "markdown",
   "metadata": {},
   "source": [
    "# Define a function that applies fibonacchi using recursion\n",
    "\n",
    "## Example\n",
    "Input: 10\n",
    "\n",
    "Output: [0, 1, 1, 2, 3, 5, 8, 13, 21, 34]"
   ]
  },
  {
   "cell_type": "code",
   "execution_count": null,
   "metadata": {},
   "outputs": [],
   "source": [
    "def fibonacci(n):\n",
    "    if n <= 0:\n",
    "        return []\n",
    "    elif n == 1:\n",
    "        return [0]\n",
    "    elif n == 2:\n",
    "        return [0, 1]\n",
    "    \n",
    "    fib_list = fibonacci(n - 1)\n",
    "    fib_list.append(fib_list[-1] + fib_list[-2])\n",
    "    return fib_list\n",
    "\n",
    "n = 10\n",
    "fibonacci(n)"
   ]
  },
  {
   "cell_type": "code",
   "execution_count": 1,
   "metadata": {},
   "outputs": [
    {
     "data": {
      "text/plain": [
       "[0, 1, 1, 2, 3, 5, 8, 13, 21, 34]"
      ]
     },
     "execution_count": 1,
     "metadata": {},
     "output_type": "execute_result"
    }
   ],
   "source": [
    "# another better solution\n",
    "def fibonacci(n):\n",
    "    if n <= 2:\n",
    "        return list(range(n))\n",
    "\n",
    "    fib_list = fibonacci(n - 1)\n",
    "    fib_list.append(fib_list[-1] + fib_list[-2])\n",
    "    return fib_list\n",
    "\n",
    "n = 10\n",
    "fibonacci(n)"
   ]
  },
  {
   "cell_type": "markdown",
   "metadata": {},
   "source": [
    "# Write a Python program to remove an item from a given set\n",
    "\n",
    "## Example\n",
    "my_set: {1, 2, 3, 4, 5}\n",
    "\n",
    "Output: {1, 2, 4, 5}"
   ]
  },
  {
   "cell_type": "code",
   "execution_count": 2,
   "metadata": {},
   "outputs": [
    {
     "name": "stdout",
     "output_type": "stream",
     "text": [
      "Updated set after removing 3: {1, 2, 4, 5}\n"
     ]
    }
   ],
   "source": [
    "my_set = {1, 2, 3, 4, 5}\n",
    "my_set.remove(3)\n",
    "print(\"Updated set after removing 3:\", my_set)"
   ]
  },
  {
   "cell_type": "markdown",
   "metadata": {},
   "source": [
    "# Write a Python program to removes multiple items from a given set\n",
    "\n",
    "## Example\n",
    "my_set: {1, 2, 3, 4, 5}\n",
    "\n",
    "items to be removed: {1, 4}\n",
    "\n",
    "Output: {2, 3, 5}"
   ]
  },
  {
   "cell_type": "code",
   "execution_count": 39,
   "metadata": {},
   "outputs": [
    {
     "name": "stdout",
     "output_type": "stream",
     "text": [
      "{2, 3, 5}\n"
     ]
    }
   ],
   "source": [
    "my_set = {1, 2, 3, 4, 5}\n",
    "items_to_remove = {1, 4}\n",
    "\n",
    "for item in items_to_remove:\n",
    "    my_set.remove(item)\n",
    "\n",
    "print(my_set)"
   ]
  },
  {
   "cell_type": "markdown",
   "metadata": {},
   "source": [
    "# Write a Python program to find the index of an item in a tuple.\n",
    "\n",
    "## Example\n",
    "my_tuple: ('apple', 'banana', 'orange', 'grape', 'banana')\n",
    "\n",
    "index of 'orange' is: 2"
   ]
  },
  {
   "cell_type": "code",
   "execution_count": 43,
   "metadata": {},
   "outputs": [
    {
     "name": "stdout",
     "output_type": "stream",
     "text": [
      "2\n"
     ]
    }
   ],
   "source": [
    "my_tuple = ('apple', 'banana', 'orange', 'grape', 'banana')\n",
    "\n",
    "index = my_tuple.index('orange')\n",
    "\n",
    "print(index)"
   ]
  },
  {
   "cell_type": "markdown",
   "metadata": {},
   "source": [
    "# Ask user to input a sentence then convert this sentence into list of words. (hint: search for split function)\n",
    "\n",
    "## Example\n",
    "Input: \"Welcome to Amit\"\n",
    "\n",
    "Output: ['Welcome', 'to', 'Amit']"
   ]
  },
  {
   "cell_type": "code",
   "execution_count": 42,
   "metadata": {},
   "outputs": [
    {
     "name": "stdout",
     "output_type": "stream",
     "text": [
      "Enter a sentence: Welcome to Amit\n",
      "['Welcome', 'to', 'Amit']\n"
     ]
    }
   ],
   "source": [
    "sentence = input(\"Enter a sentence: \")\n",
    "lst = sentence.split()\n",
    "print(lst)"
   ]
  },
  {
   "cell_type": "markdown",
   "metadata": {},
   "source": [
    "# Take a string from the user and if it's Palindrome print \"Palindrome\" otherwise print \"Not a Palindrome\"\n",
    "\n",
    "A string is Palindrome if it's read the same from the left and right\n",
    "\n",
    "## Example\n",
    "Input: racecar\n",
    "\n",
    "Output: Palindrome"
   ]
  },
  {
   "cell_type": "code",
   "execution_count": 12,
   "metadata": {},
   "outputs": [
    {
     "name": "stdout",
     "output_type": "stream",
     "text": [
      "Enter a string: racecarr\n",
      "\n",
      "Not a palindrome\n"
     ]
    }
   ],
   "source": [
    "# string = \"racecar\"\n",
    "string = input(\"Enter a string: \")\n",
    "if string == string[::-1]:\n",
    "        print(\"\\nPalindrome\")\n",
    "else:\n",
    "        print(\"\\nNot a palindrome\")"
   ]
  },
  {
   "cell_type": "markdown",
   "metadata": {},
   "source": [
    "# find the factorial of a number \n",
    "## Example\n",
    "(factorial of 5) = 5 * 4 * 3 * 2 * 1 = 120"
   ]
  },
  {
   "cell_type": "code",
   "execution_count": 7,
   "metadata": {},
   "outputs": [
    {
     "name": "stdout",
     "output_type": "stream",
     "text": [
      "120\n"
     ]
    }
   ],
   "source": [
    "n = 5\n",
    "factorial = 1\n",
    "for i in range(1, n+1):\n",
    "    factorial *= i\n",
    "print(factorial)"
   ]
  },
  {
   "cell_type": "markdown",
   "metadata": {},
   "source": [
    "# Create a List of Squares of Numbers from 1 to 10\n",
    "## Example\n",
    "Output: [1, 4, 9, 16, 25, 36, 49, 64, 81, 100]"
   ]
  },
  {
   "cell_type": "code",
   "execution_count": 14,
   "metadata": {},
   "outputs": [
    {
     "name": "stdout",
     "output_type": "stream",
     "text": [
      "[1, 4, 9, 16, 25, 36, 49, 64, 81, 100]\n"
     ]
    }
   ],
   "source": [
    "new_list=[]\n",
    "for i in range(1,11):\n",
    "  new_list.append(i**2)\n",
    "print(new_list)"
   ]
  },
  {
   "cell_type": "markdown",
   "metadata": {},
   "source": [
    "**Another Solution**"
   ]
  },
  {
   "cell_type": "code",
   "execution_count": null,
   "metadata": {},
   "outputs": [],
   "source": [
    "# or this code \n",
    "print([x**2 for x in range(1, 11)])"
   ]
  },
  {
   "cell_type": "markdown",
   "metadata": {},
   "source": [
    "# Create a function that Calculates the Sum of Even Numbers in a List\n",
    "## Example\n",
    "numbers: [1, 2, 3, 4, 5, 6]\n",
    "\n",
    "Output: 12"
   ]
  },
  {
   "cell_type": "code",
   "execution_count": 21,
   "metadata": {},
   "outputs": [
    {
     "name": "stdout",
     "output_type": "stream",
     "text": [
      "12\n"
     ]
    }
   ],
   "source": [
    "def calculate_sum_of_even_numbers(numbers):\n",
    "        total = 0\n",
    "        for number in numbers:\n",
    "            if number % 2 == 0:\n",
    "                    total += number\n",
    "        return total\n",
    "\n",
    "numbers = [1, 2, 3, 4, 5, 6]\n",
    "result = calculate_sum_of_even_numbers(numbers)\n",
    "print(result)"
   ]
  },
  {
   "cell_type": "markdown",
   "metadata": {},
   "source": [
    "# Create a function that takes a list as input and return reversed list\n",
    "\n",
    "## Example\n",
    "lst: [1, 2, 3]\n",
    "\n",
    "Output: [3, 2, 1]"
   ]
  },
  {
   "cell_type": "code",
   "execution_count": 16,
   "metadata": {},
   "outputs": [
    {
     "data": {
      "text/plain": [
       "[3, 2, 1]"
      ]
     },
     "execution_count": 16,
     "metadata": {},
     "output_type": "execute_result"
    }
   ],
   "source": [
    "def reverse_list(l):\n",
    "        return lst[::-1]\n",
    "\n",
    "lst = [1, 2, 3]\n",
    "reverse_list(lst)"
   ]
  },
  {
   "cell_type": "markdown",
   "metadata": {},
   "source": [
    "# create a function that calculates the median of a list of numbers (a median is the middle element in sorted list of numbers)\n",
    "\n",
    "## Example\n",
    "numbers: [5, 2, 7, 3, 1]\n",
    "\n",
    "Output: 3"
   ]
  },
  {
   "cell_type": "code",
   "execution_count": 17,
   "metadata": {},
   "outputs": [
    {
     "name": "stdout",
     "output_type": "stream",
     "text": [
      "3\n"
     ]
    }
   ],
   "source": [
    "def calculate_median(lst):\n",
    "        lst.sort()\n",
    "        length = len(lst)\n",
    "        middle_index = length // 2\n",
    "\n",
    "        if length % 2 == 0:\n",
    "            return (lst[middle_index] + lst[middle_index - 1]) / 2    \n",
    "        return lst[middle_index]\n",
    "\n",
    "numbers = [5, 2, 7, 3, 1]\n",
    "result = calculate_median(numbers)\n",
    "print(result)"
   ]
  },
  {
   "cell_type": "markdown",
   "metadata": {},
   "source": [
    "# create a function that calculates the mode of a list of number (mode is the most frequent element in a list)\n",
    "\n",
    "## Example\n",
    "lst: [5, 2, 7, 3, 2, 1, 5]\n",
    "\n",
    "Output: 5"
   ]
  },
  {
   "cell_type": "code",
   "execution_count": 20,
   "metadata": {},
   "outputs": [
    {
     "name": "stdout",
     "output_type": "stream",
     "text": [
      "5\n"
     ]
    }
   ],
   "source": [
    "def calculate_mode(numbers):\n",
    "        counts = {}\n",
    "        for i in numbers:\n",
    "            freq = numbers.count(i)\n",
    "            counts[freq] = i\n",
    "        keys = list(counts.keys())\n",
    "        max_freq = max(keys)\n",
    "        return counts[max_freq]\n",
    "\n",
    "lst = [5, 2, 7, 3, 2, 1, 5]\n",
    "result = calculate_mode(lst)\n",
    "print(result)  # Output: 5"
   ]
  },
  {
   "cell_type": "markdown",
   "metadata": {},
   "source": [
    "# Task: take the mark from the user and convert it to grade according to the following guidelines\n",
    "1. 85-100 A\n",
    "2. 75-85 B\n",
    "3. 65-75 C\n",
    "4. 50-65 D\n",
    "5. <50 F"
   ]
  },
  {
   "cell_type": "code",
   "execution_count": 19,
   "metadata": {},
   "outputs": [
    {
     "name": "stdout",
     "output_type": "stream",
     "text": [
      "enter your grade 60\n",
      "D\n"
     ]
    }
   ],
   "source": [
    "x=int(input('enter your grade '))\n",
    "\n",
    "if x>=85 and x<=100:\n",
    "        print('A')\n",
    "elif x>=75 and x<85:\n",
    "        print('B')\n",
    "elif x>=65 and x<75:\n",
    "        print('C')\n",
    "elif x>=50 and x<65:\n",
    "        print('D')\n",
    "elif x<50:\n",
    "        print('good luck next year')\n",
    "else:\n",
    "        print('enter a valid data')"
   ]
  },
  {
   "cell_type": "code",
   "execution_count": null,
   "metadata": {},
   "outputs": [],
   "source": []
  }
 ],
 "metadata": {
  "colab": {
   "collapsed_sections": [
    "IZoL1B1NNyIJ",
    "FxOzt49VXjjp",
    "tySmqn_NWn5v",
    "R0d1e5t-dcGx"
   ],
   "provenance": [],
   "toc_visible": true
  },
  "kernelspec": {
   "display_name": "Python 3 (ipykernel)",
   "language": "python",
   "name": "python3"
  },
  "language_info": {
   "codemirror_mode": {
    "name": "ipython",
    "version": 3
   },
   "file_extension": ".py",
   "mimetype": "text/x-python",
   "name": "python",
   "nbconvert_exporter": "python",
   "pygments_lexer": "ipython3",
   "version": "3.10.9"
  }
 },
 "nbformat": 4,
 "nbformat_minor": 1
}
