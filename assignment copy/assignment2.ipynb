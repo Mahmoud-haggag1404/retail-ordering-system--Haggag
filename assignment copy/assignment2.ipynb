{
 "cells": [
  {
   "cell_type": "markdown",
   "metadata": {},
   "source": [
    "# Define a function that applies fibonacchi using recursion\n",
    "\n",
    "## Example\n",
    "Input: 10\n",
    "\n",
    "Output: [0, 1, 1, 2, 3, 5, 8, 13, 21, 34]"
   ]
  },
  {
   "cell_type": "code",
   "execution_count": 1,
   "metadata": {},
   "outputs": [],
   "source": [
    "# Write your answer here"
   ]
  },
  {
   "cell_type": "markdown",
   "metadata": {},
   "source": [
    "# Write a Python program to remove an item from a given set\n",
    "\n",
    "## Example\n",
    "my_set: {1, 2, 3, 4, 5}\n",
    "\n",
    "Output: {1, 2, 4, 5}"
   ]
  },
  {
   "cell_type": "code",
   "execution_count": 2,
   "metadata": {},
   "outputs": [],
   "source": [
    "# Write your answer here"
   ]
  },
  {
   "cell_type": "markdown",
   "metadata": {},
   "source": [
    "# Write a Python program to removes multiple items from a given set\n",
    "\n",
    "## Example\n",
    "my_set: {1, 2, 3, 4, 5}\n",
    "\n",
    "items to be removed: {1, 4}\n",
    "\n",
    "Output: {2, 3, 5}"
   ]
  },
  {
   "cell_type": "code",
   "execution_count": 3,
   "metadata": {},
   "outputs": [],
   "source": [
    "# Write your answer here"
   ]
  },
  {
   "cell_type": "markdown",
   "metadata": {},
   "source": [
    "# Write a Python program to find the index of an item in a tuple.\n",
    "\n",
    "## Example\n",
    "my_tuple: ('apple', 'banana', 'orange', 'grape', 'banana')\n",
    "\n",
    "index of 'orange' is: 2"
   ]
  },
  {
   "cell_type": "code",
   "execution_count": 4,
   "metadata": {},
   "outputs": [],
   "source": [
    "# Write your answer here"
   ]
  },
  {
   "cell_type": "markdown",
   "metadata": {},
   "source": [
    "# Ask user to input a sentence then convert this sentence into list of words. (hint: search for split function)\n",
    "\n",
    "## Example\n",
    "Input: \"Welcome to Amit\"\n",
    "\n",
    "Output: ['Welcome', 'to', 'Amit']"
   ]
  },
  {
   "cell_type": "code",
   "execution_count": 5,
   "metadata": {},
   "outputs": [],
   "source": [
    "# Write your answer here"
   ]
  },
  {
   "cell_type": "markdown",
   "metadata": {},
   "source": [
    "# Take a string from the user and if it's Palindrome print \"Palindrome\" otherwise print \"Not a Palindrome\"\n",
    "\n",
    "A string is Palindrome if it's read the same from the left and right\n",
    "\n",
    "## Example\n",
    "Input: racecar\n",
    "\n",
    "Output: Palindrome"
   ]
  },
  {
   "cell_type": "code",
   "execution_count": 6,
   "metadata": {},
   "outputs": [],
   "source": [
    "# Write your answer here"
   ]
  },
  {
   "cell_type": "markdown",
   "metadata": {},
   "source": [
    "# find the factorial of a number \n",
    "## Example\n",
    "(factorial of 5) = 5 * 4 * 3 * 2 * 1 = 120"
   ]
  },
  {
   "cell_type": "code",
   "execution_count": 7,
   "metadata": {},
   "outputs": [],
   "source": [
    "# Write your answer here"
   ]
  },
  {
   "cell_type": "markdown",
   "metadata": {},
   "source": [
    "# Create a List of Squares of Numbers from 1 to 10\n",
    "## Example\n",
    "Output: [1, 4, 9, 16, 25, 36, 49, 64, 81, 100]"
   ]
  },
  {
   "cell_type": "code",
   "execution_count": 8,
   "metadata": {},
   "outputs": [],
   "source": [
    "# Write your answer here"
   ]
  },
  {
   "cell_type": "markdown",
   "metadata": {},
   "source": [
    "**Another Solution**"
   ]
  },
  {
   "cell_type": "code",
   "execution_count": 9,
   "metadata": {},
   "outputs": [],
   "source": [
    "# Write your answer here"
   ]
  },
  {
   "cell_type": "markdown",
   "metadata": {},
   "source": [
    "# Create a function that Calculates the Sum of Even Numbers in a List\n",
    "## Example\n",
    "numbers: [1, 2, 3, 4, 5, 6]\n",
    "\n",
    "Output: 12"
   ]
  },
  {
   "cell_type": "code",
   "execution_count": 10,
   "metadata": {},
   "outputs": [],
   "source": [
    "# Write your answer here"
   ]
  },
  {
   "cell_type": "markdown",
   "metadata": {},
   "source": [
    "# Create a function that takes a list as input and return reversed list\n",
    "\n",
    "## Example\n",
    "lst: [1, 2, 3]\n",
    "\n",
    "Output: [3, 2, 1]"
   ]
  },
  {
   "cell_type": "code",
   "execution_count": 11,
   "metadata": {},
   "outputs": [],
   "source": [
    "# Write your answer here"
   ]
  },
  {
   "cell_type": "markdown",
   "metadata": {},
   "source": [
    "# create a function that calculates the median of a list of numbers (a median is the middle element in sorted list of numbers)\n",
    "\n",
    "## Example\n",
    "numbers: [5, 2, 7, 3, 1]\n",
    "\n",
    "Output: 3"
   ]
  },
  {
   "cell_type": "code",
   "execution_count": 12,
   "metadata": {},
   "outputs": [],
   "source": [
    "# Write your answer here"
   ]
  },
  {
   "cell_type": "markdown",
   "metadata": {},
   "source": [
    "# create a function that calculates the mode of a list of number (mode is the most frequent element in a list)\n",
    "\n",
    "## Example\n",
    "lst: [5, 2, 7, 3, 2, 1, 5]\n",
    "\n",
    "Output: 5"
   ]
  },
  {
   "cell_type": "code",
   "execution_count": 13,
   "metadata": {},
   "outputs": [],
   "source": [
    "# Write your answer here"
   ]
  },
  {
   "cell_type": "markdown",
   "metadata": {},
   "source": [
    "# Task: take the mark from the user and convert it to grade according to the following guidelines\n",
    "1. 85-100 A\n",
    "2. 75-85 B\n",
    "3. 65-75 C\n",
    "4. 50-65 D\n",
    "5. <50 F"
   ]
  },
  {
   "cell_type": "code",
   "execution_count": 14,
   "metadata": {},
   "outputs": [],
   "source": [
    "# Write your answer here"
   ]
  },
  {
   "cell_type": "code",
   "execution_count": null,
   "metadata": {},
   "outputs": [],
   "source": []
  }
 ],
 "metadata": {
  "colab": {
   "collapsed_sections": [
    "IZoL1B1NNyIJ",
    "FxOzt49VXjjp",
    "tySmqn_NWn5v",
    "R0d1e5t-dcGx"
   ],
   "provenance": [],
   "toc_visible": true
  },
  "kernelspec": {
   "display_name": "Python 3 (ipykernel)",
   "language": "python",
   "name": "python3"
  },
  "language_info": {
   "codemirror_mode": {
    "name": "ipython",
    "version": 3
   },
   "file_extension": ".py",
   "mimetype": "text/x-python",
   "name": "python",
   "nbconvert_exporter": "python",
   "pygments_lexer": "ipython3",
   "version": "3.10.9"
  }
 },
 "nbformat": 4,
 "nbformat_minor": 1
}
